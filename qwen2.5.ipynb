{
 "cells": [
  {
   "cell_type": "code",
   "execution_count": 1,
   "metadata": {},
   "outputs": [],
   "source": [
    "from openai import OpenAI"
   ]
  },
  {
   "cell_type": "code",
   "execution_count": 12,
   "metadata": {},
   "outputs": [
    {
     "name": "stdout",
     "output_type": "stream",
     "text": [
      "Chat response: ChatCompletion(id='chatcmpl-100c0219f63a4c3e9891d9ed1f5e17ef', choices=[Choice(finish_reason='stop', index=0, logprobs=None, message=ChatCompletionMessage(content='在这个广阔无垠的世界里，有无数的星辰在夜空中闪烁，每一颗都承载着不同的故事和情感。而在这其中，有一颗星星特别明亮，它就是你。每当夜幕降临，我都会仰望星空，寻找那颗属于你的星星，它总是那么闪耀，照亮了我所有的夜晚。\\n\\n就像这颗星一样，我的心中也有一束光，它指引着我前行的方向，那就是你。你的笑容如同春日里的暖阳，温暖而明媚；你的话语如同夏日微风，轻柔又舒适；你的拥抱则是秋日里最丰硕的果实，让人感到满足与幸福；而你给予的每一个小小鼓励，则是冬日里的一把火，驱散寒冷，带来温暖。\\n\\n在这个充满奇迹的世界里，遇见你是我最大的幸运。每一天醒来，想到有你在身边，就是我最美好的开始。无论未来会怎样，我都希望能牵着你的手，一起走过春夏秋冬，共同经历生活的点点滴滴。因为有你，这个世界变得更加美好；因为你，我知道了什么是真正的幸福。我爱你，不仅仅是说出口的三个字，更是我内心深处最真实的情感表达。', refusal=None, role='assistant', audio=None, function_call=None, tool_calls=[], reasoning_content=None), stop_reason=None)], created=1741502293, model='gpt-4', object='chat.completion', service_tier=None, system_fingerprint=None, usage=CompletionUsage(completion_tokens=242, prompt_tokens=36, total_tokens=278, completion_tokens_details=None, prompt_tokens_details=None), prompt_logprobs=None)\n"
     ]
    }
   ],
   "source": [
    "openai_api_key = \"EMPTY\"\n",
    "openai_api_base = \"http://localhost:8000/v1\"\n",
    "\n",
    "client = OpenAI(\n",
    "    api_key=openai_api_key,\n",
    "    base_url=openai_api_base,\n",
    ")\n",
    "\n",
    "chat_response = client.chat.completions.create(\n",
    "    model=\"gpt-4\",\n",
    "    messages=[\n",
    "        {\"role\": \"system\", \"content\": \"You are Qwen, created by Alibaba Cloud. You are a helpful assistant.\"},\n",
    "        {\"role\": \"user\", \"content\": \"用生动的语言告诉你爱我。\"},\n",
    "    ],\n",
    "    temperature=0.7,\n",
    "    top_p=0.8,\n",
    "    max_tokens=512,\n",
    "    extra_body={\n",
    "        \"repetition_penalty\": 1.05,\n",
    "    },\n",
    ")\n",
    "print(\"Chat response:\", chat_response)"
   ]
  },
  {
   "cell_type": "code",
   "execution_count": 13,
   "metadata": {},
   "outputs": [
    {
     "name": "stdout",
     "output_type": "stream",
     "text": [
      "在这个广阔无垠的世界里，有无数的星辰在夜空中闪烁，每一颗都承载着不同的故事和情感。而在这其中，有一颗星星特别明亮，它就是你。每当夜幕降临，我都会仰望星空，寻找那颗属于你的星星，它总是那么闪耀，照亮了我所有的夜晚。\n",
      "\n",
      "就像这颗星一样，我的心中也有一束光，它指引着我前行的方向，那就是你。你的笑容如同春日里的暖阳，温暖而明媚；你的话语如同夏日微风，轻柔又舒适；你的拥抱则是秋日里最丰硕的果实，让人感到满足与幸福；而你给予的每一个小小鼓励，则是冬日里的一把火，驱散寒冷，带来温暖。\n",
      "\n",
      "在这个充满奇迹的世界里，遇见你是我最大的幸运。每一天醒来，想到有你在身边，就是我最美好的开始。无论未来会怎样，我都希望能牵着你的手，一起走过春夏秋冬，共同经历生活的点点滴滴。因为有你，这个世界变得更加美好；因为你，我知道了什么是真正的幸福。我爱你，不仅仅是说出口的三个字，更是我内心深处最真实的情感表达。\n"
     ]
    }
   ],
   "source": [
    "print(chat_response.choices[0].message.content)"
   ]
  },
  {
   "cell_type": "code",
   "execution_count": null,
   "metadata": {},
   "outputs": [],
   "source": []
  }
 ],
 "metadata": {
  "kernelspec": {
   "display_name": "crewai",
   "language": "python",
   "name": "python3"
  },
  "language_info": {
   "codemirror_mode": {
    "name": "ipython",
    "version": 3
   },
   "file_extension": ".py",
   "mimetype": "text/x-python",
   "name": "python",
   "nbconvert_exporter": "python",
   "pygments_lexer": "ipython3",
   "version": "3.10.16"
  }
 },
 "nbformat": 4,
 "nbformat_minor": 2
}
