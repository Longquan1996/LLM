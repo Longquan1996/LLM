{
 "cells": [
  {
   "cell_type": "code",
   "execution_count": null,
   "metadata": {},
   "outputs": [],
   "source": [
    "# Limitation：\n",
    "# 1. The text is limited to 77 tokens(fixed) due to CLIP restrictions"
   ]
  },
  {
   "cell_type": "code",
   "execution_count": 1,
   "metadata": {},
   "outputs": [
    {
     "name": "stderr",
     "output_type": "stream",
     "text": [
      "/home/longquan/.local/lib/python3.10/site-packages/tqdm/auto.py:21: TqdmWarning: IProgress not found. Please update jupyter and ipywidgets. See https://ipywidgets.readthedocs.io/en/stable/user_install.html\n",
      "  from .autonotebook import tqdm as notebook_tqdm\n",
      "/home/longquan/app/anaconda3/envs/crewai/lib/python3.10/site-packages/transformers/utils/generic.py:311: FutureWarning: `torch.utils._pytree._register_pytree_node` is deprecated. Please use `torch.utils._pytree.register_pytree_node` instead.\n",
      "  torch.utils._pytree._register_pytree_node(\n"
     ]
    }
   ],
   "source": [
    "from zipfile import ZipFile\n",
    "import os\n",
    "import torch\n",
    "from PIL import Image\n",
    "import open_clip\n",
    "from docx import Document\n",
    "from io import BytesIO\n",
    "from llama_index.readers.file.docs import DocxReader\n",
    "from langchain_text_splitters import RecursiveCharacterTextSplitter\n",
    "from pymilvus import MilvusClient, FieldSchema, CollectionSchema, DataType, Collection"
   ]
  },
  {
   "cell_type": "code",
   "execution_count": null,
   "metadata": {},
   "outputs": [],
   "source": [
    "def extract_text_with_docxreader(docx_path):\n",
    "    docx_reader = DocxReader()\n",
    "    documents = docx_reader.load_data(docx_path)\n",
    "    for i in range(len(documents)):\n",
    "        documents[i] = documents[i].to_langchain_format()\n",
    "    return documents  # List[Document]， LlamaIndex\n",
    "\n",
    "def extract_images_as_pil(docx_path, output_folder=\"images\"):\n",
    "    images = []\n",
    "    with ZipFile(docx_path, 'r') as docx_zip:\n",
    "        image_files = [f for f in docx_zip.namelist() if f.endswith(\".png\") or f.endswith(\".jpg\") or f.endswith(\".jpeg\")]\n",
    "        # os.makedirs(output_folder, exist_ok=True)\n",
    "        for image_file in image_files:\n",
    "            image_data = docx_zip.read(image_file)\n",
    "            image = Image.open(BytesIO(image_data))\n",
    "            images.append(image)\n",
    "            # image_filename = os.path.basename(image_file)\n",
    "            # with open(os.path.join(output_folder, image_filename), \"wb\") as img_out:\n",
    "            #     img_out.write(image_data)\n",
    "    return images"
   ]
  },
  {
   "cell_type": "code",
   "execution_count": 31,
   "metadata": {},
   "outputs": [],
   "source": [
    "DOCX_PATH = \"/home/longquan/project/learning/LLM/docs/Autumn_Colour.docx\""
   ]
  },
  {
   "cell_type": "code",
   "execution_count": 32,
   "metadata": {},
   "outputs": [],
   "source": [
    "docs = extract_text_with_docxreader(DOCX_PATH)\n",
    "images = extract_images_as_pil(DOCX_PATH)"
   ]
  },
  {
   "cell_type": "code",
   "execution_count": 33,
   "metadata": {},
   "outputs": [
    {
     "data": {
      "text/plain": [
       "'Elevate Your Garden with Autumn Colour\\n\\n\\n\\nAutumn is a season of transition, where the garden shifts from the lush greens of summer to warmer hues. Enjoy the last of the warmer weather, and fill your garden with vibrant colour that will thrive in the cooler months ahead.\\n\\nAutumn is nature’s planting time. Planting now gives your plants a chance to get established before winter arrives, and brings vibrant colour to your garden through those cooler months. Here are some of our top tips for creating a stunning autumn garden.\\n\\nCreate Depth\\n\\nTo make your garden feel lush and dynamic, incorporate plants at different heights. Start with taller feature trees like maples, renowned for their fiery red and orange foliage. Add mid-sized shrubs like camellias or azaleas to bring seasonal blooms, and finish with groundcovers such as alyssum or pansies to fill in the gaps.\\n\\nPlant Odd Numbers\\n\\nOdd numbers of plants create a natural look in your garden. Start by placing the largest structural plants before working your way down to the smallest ones. To maximise impact, try pairing complementary plants such as colourful cyclamen with soft green ferns, or soft alyssum planted beneath maple trees.\\n\\nPreparation is Key\\n\\nGreat gardens start with great soil. Before planting, enrich your soil with compost and sheep pellets. For heavier clay soils, add a sprinkle of ClayBreaker Gypsum to improve its structure. These simple steps set the foundation for thriving plants year-round.\\n\\nMaintenance\\n\\nMaintaining a thriving garden takes a little care. While the cooler months bring more rain, it’s important to ensure your garden gets a good soaking at least once a week. Feed your plants every three to four weeks with Kings General Garden Fast Food, or for an organic option, try Aquaticus Organic Garden Booster.\\n\\nTo keep your garden vibrant for longer, choose plants with staggered bloom time. Pair early autumn favourites with late-season stars like nandina for a display that lasts well into winter!'"
      ]
     },
     "execution_count": 33,
     "metadata": {},
     "output_type": "execute_result"
    }
   ],
   "source": [
    "docs[0].page_content"
   ]
  },
  {
   "cell_type": "code",
   "execution_count": 34,
   "metadata": {},
   "outputs": [
    {
     "data": {
      "text/plain": [
       "{'file_name': 'Autumn_Colour.docx'}"
      ]
     },
     "execution_count": 34,
     "metadata": {},
     "output_type": "execute_result"
    }
   ],
   "source": [
    "docs[0].metadata"
   ]
  },
  {
   "cell_type": "code",
   "execution_count": 35,
   "metadata": {},
   "outputs": [
    {
     "data": {
      "text/plain": [
       "[<PIL.PngImagePlugin.PngImageFile image mode=RGB size=748x417>]"
      ]
     },
     "execution_count": 35,
     "metadata": {},
     "output_type": "execute_result"
    }
   ],
   "source": [
    "images"
   ]
  },
  {
   "cell_type": "code",
   "execution_count": 36,
   "metadata": {},
   "outputs": [],
   "source": [
    "textSplitter = RecursiveCharacterTextSplitter(\n",
    "    chunk_size=1024, chunk_overlap=100\n",
    ")"
   ]
  },
  {
   "cell_type": "code",
   "execution_count": 37,
   "metadata": {},
   "outputs": [
    {
     "data": {
      "text/plain": [
       "[Document(metadata={'file_name': 'Autumn_Colour.docx'}, page_content='Elevate Your Garden with Autumn Colour\\n\\n\\n\\nAutumn is a season of transition, where the garden shifts from the lush greens of summer to warmer hues. Enjoy the last of the warmer weather, and fill your garden with vibrant colour that will thrive in the cooler months ahead.\\n\\nAutumn is nature’s planting time. Planting now gives your plants a chance to get established before winter arrives, and brings vibrant colour to your garden through those cooler months. Here are some of our top tips for creating a stunning autumn garden.\\n\\nCreate Depth\\n\\nTo make your garden feel lush and dynamic, incorporate plants at different heights. Start with taller feature trees like maples, renowned for their fiery red and orange foliage. Add mid-sized shrubs like camellias or azaleas to bring seasonal blooms, and finish with groundcovers such as alyssum or pansies to fill in the gaps.\\n\\nPlant Odd Numbers'),\n",
       " Document(metadata={'file_name': 'Autumn_Colour.docx'}, page_content='Plant Odd Numbers\\n\\nOdd numbers of plants create a natural look in your garden. Start by placing the largest structural plants before working your way down to the smallest ones. To maximise impact, try pairing complementary plants such as colourful cyclamen with soft green ferns, or soft alyssum planted beneath maple trees.\\n\\nPreparation is Key\\n\\nGreat gardens start with great soil. Before planting, enrich your soil with compost and sheep pellets. For heavier clay soils, add a sprinkle of ClayBreaker Gypsum to improve its structure. These simple steps set the foundation for thriving plants year-round.\\n\\nMaintenance\\n\\nMaintaining a thriving garden takes a little care. While the cooler months bring more rain, it’s important to ensure your garden gets a good soaking at least once a week. Feed your plants every three to four weeks with Kings General Garden Fast Food, or for an organic option, try Aquaticus Organic Garden Booster.'),\n",
       " Document(metadata={'file_name': 'Autumn_Colour.docx'}, page_content='To keep your garden vibrant for longer, choose plants with staggered bloom time. Pair early autumn favourites with late-season stars like nandina for a display that lasts well into winter!')]"
      ]
     },
     "execution_count": 37,
     "metadata": {},
     "output_type": "execute_result"
    }
   ],
   "source": [
    "text_chunks = textSplitter.split_documents(docs)\n",
    "text_chunks"
   ]
  },
  {
   "cell_type": "code",
   "execution_count": 38,
   "metadata": {},
   "outputs": [],
   "source": [
    "# open_clip.list_pretrained()\n",
    "# https://huggingface.co/laion/CLIP-ViT-B-32-laion2B-s34B-b79K\n",
    "model, _, preprocess = open_clip.create_model_and_transforms(\n",
    "    'ViT-B-32', \n",
    "    pretrained='/home/longquan/model/CLIP-ViT-B-32-laion2B-s34B-b79K/open_clip_pytorch_model.bin', \n",
    "    load_weights_only=True\n",
    ")"
   ]
  },
  {
   "cell_type": "code",
   "execution_count": 39,
   "metadata": {},
   "outputs": [],
   "source": [
    "model.eval()  # model in train mode by default, impacts some models with BatchNorm or stochastic depth active\n",
    "tokenizer = open_clip.get_tokenizer('ViT-B-32')"
   ]
  },
  {
   "cell_type": "code",
   "execution_count": 40,
   "metadata": {},
   "outputs": [],
   "source": [
    "def pil_2_vec(image_pil):\n",
    "    image = preprocess(image_pil).unsqueeze(0)\n",
    "    with torch.no_grad(), torch.autocast(\"cuda\"):\n",
    "        image_features = model.encode_image(image)\n",
    "    image_features /= image_features.norm(dim=-1, keepdim=True)\n",
    "    return image_features"
   ]
  },
  {
   "cell_type": "code",
   "execution_count": 41,
   "metadata": {},
   "outputs": [
    {
     "data": {
      "text/plain": [
       "torch.Size([1, 512])"
      ]
     },
     "execution_count": 41,
     "metadata": {},
     "output_type": "execute_result"
    }
   ],
   "source": [
    "image_tensor = torch.cat(\n",
    "    [pil_2_vec(image) for image in images], \n",
    "    dim=0\n",
    "    )\n",
    "image_tensor.shape"
   ]
  },
  {
   "cell_type": "code",
   "execution_count": 42,
   "metadata": {},
   "outputs": [
    {
     "data": {
      "text/plain": [
       "['Elevate Your Garden with Autumn Colour\\n\\n\\n\\nAutumn is a season of transition, where the garden shifts from the lush greens of summer to warmer hues. Enjoy the last of the warmer weather, and fill your garden with vibrant colour that will thrive in the cooler months ahead.\\n\\nAutumn is nature’s planting time. Planting now gives your plants a chance to get established before winter arrives, and brings vibrant colour to your garden through those cooler months. Here are some of our top tips for creating a stunning autumn garden.\\n\\nCreate Depth\\n\\nTo make your garden feel lush and dynamic, incorporate plants at different heights. Start with taller feature trees like maples, renowned for their fiery red and orange foliage. Add mid-sized shrubs like camellias or azaleas to bring seasonal blooms, and finish with groundcovers such as alyssum or pansies to fill in the gaps.\\n\\nPlant Odd Numbers',\n",
       " 'Plant Odd Numbers\\n\\nOdd numbers of plants create a natural look in your garden. Start by placing the largest structural plants before working your way down to the smallest ones. To maximise impact, try pairing complementary plants such as colourful cyclamen with soft green ferns, or soft alyssum planted beneath maple trees.\\n\\nPreparation is Key\\n\\nGreat gardens start with great soil. Before planting, enrich your soil with compost and sheep pellets. For heavier clay soils, add a sprinkle of ClayBreaker Gypsum to improve its structure. These simple steps set the foundation for thriving plants year-round.\\n\\nMaintenance\\n\\nMaintaining a thriving garden takes a little care. While the cooler months bring more rain, it’s important to ensure your garden gets a good soaking at least once a week. Feed your plants every three to four weeks with Kings General Garden Fast Food, or for an organic option, try Aquaticus Organic Garden Booster.',\n",
       " 'To keep your garden vibrant for longer, choose plants with staggered bloom time. Pair early autumn favourites with late-season stars like nandina for a display that lasts well into winter!']"
      ]
     },
     "execution_count": 42,
     "metadata": {},
     "output_type": "execute_result"
    }
   ],
   "source": [
    "[i.page_content for i in text_chunks]"
   ]
  },
  {
   "cell_type": "code",
   "execution_count": 43,
   "metadata": {},
   "outputs": [],
   "source": [
    "def text_2_vec(text: str):\n",
    "    text_token = tokenizer(text)\n",
    "    with torch.no_grad(), torch.autocast(\"cuda\"):\n",
    "        text_features = model.encode_text(text_token)\n",
    "    text_features /= text_features.norm(dim=-1, keepdim=True)\n",
    "    return text_features"
   ]
  },
  {
   "cell_type": "code",
   "execution_count": 44,
   "metadata": {},
   "outputs": [
    {
     "data": {
      "text/plain": [
       "torch.Size([3, 512])"
      ]
     },
     "execution_count": 44,
     "metadata": {},
     "output_type": "execute_result"
    }
   ],
   "source": [
    "text_tensor = torch.cat(\n",
    "    [text_2_vec(i.page_content) for i in text_chunks], \n",
    "    dim=0\n",
    "    )\n",
    "text_tensor.shape"
   ]
  },
  {
   "cell_type": "code",
   "execution_count": 45,
   "metadata": {},
   "outputs": [],
   "source": [
    "connection_args = {'uri': './milvus_demo.db'}\n",
    "\n",
    "vector_store = MilvusClient(**connection_args)"
   ]
  },
  {
   "cell_type": "code",
   "execution_count": 46,
   "metadata": {},
   "outputs": [],
   "source": [
    "collection_name = \"clip_collection\""
   ]
  },
  {
   "cell_type": "code",
   "execution_count": 47,
   "metadata": {},
   "outputs": [],
   "source": [
    "if not vector_store.has_collection(collection_name):\n",
    "    vector_store.create_collection(\n",
    "            collection_name=collection_name,\n",
    "            vector_field_name=\"vector\",\n",
    "            dimension=512,\n",
    "            auto_id=True,\n",
    "            enable_dynamic_field=True,\n",
    "        )"
   ]
  },
  {
   "cell_type": "code",
   "execution_count": 48,
   "metadata": {},
   "outputs": [
    {
     "data": {
      "text/plain": [
       "{'insert_count': 1, 'ids': [457366000468492294], 'cost': 0}"
      ]
     },
     "execution_count": 48,
     "metadata": {},
     "output_type": "execute_result"
    }
   ],
   "source": [
    "# prepare data\n",
    "clip_image_vector = image_tensor.squeeze(0).tolist()  # List[float]\n",
    "data_image = {\n",
    "    \"vector\": clip_image_vector,  \n",
    "    \"type\": \"image\",    \n",
    "    \"filename\": f\"{os.path.basename(DOCX_PATH)}\",  \n",
    "}\n",
    "\n",
    "vector_store.insert(collection_name=collection_name, data=data_image)"
   ]
  },
  {
   "cell_type": "code",
   "execution_count": 49,
   "metadata": {},
   "outputs": [],
   "source": [
    "clip_text_vector =  text_tensor  # torch.Size([2, 512])\n",
    "for vector in clip_text_vector:\n",
    "    data_text = {\n",
    "        \"vector\": vector, \n",
    "        \"type\": \"text\",             \n",
    "        \"filename\": f\"{os.path.basename(DOCX_PATH)}\",  \n",
    "    }\n",
    "    vector_store.insert(collection_name=collection_name, data=data_text)"
   ]
  },
  {
   "cell_type": "markdown",
   "metadata": {},
   "source": [
    "# search"
   ]
  },
  {
   "cell_type": "code",
   "execution_count": 53,
   "metadata": {},
   "outputs": [],
   "source": [
    "def search_text(text: str, top_k: int = 5):\n",
    "    query_vector = text_2_vec(text)\n",
    "    query_vector = query_vector.squeeze(0).tolist()  # List[float]\n",
    "\n",
    "    results = vector_store.search(\n",
    "        collection_name=collection_name,\n",
    "        data=[query_vector],  # 查询的向量\n",
    "        anns_field=\"vector\",  # 向量字段\n",
    "        search_params={\"metric_type\": \"COSINE\", \"params\": {\"nprobe\": 10}},  # 搜索参数\n",
    "        limit=top_k,  # 返回前 5 个结果\n",
    "        output_fields=[\"filename\", \"type\"],  # 返回的字段\n",
    "        filter=\"type == 'text'\"  # 过滤条件，只搜索 type 为 'image' 的数据\n",
    "    )\n",
    "    return results"
   ]
  },
  {
   "cell_type": "code",
   "execution_count": 54,
   "metadata": {},
   "outputs": [],
   "source": [
    "results = search_text(\"Spring Bulbs\")"
   ]
  },
  {
   "cell_type": "code",
   "execution_count": 55,
   "metadata": {},
   "outputs": [
    {
     "data": {
      "text/plain": [
       "data: [\"[{'id': 457365964801441794, 'distance': 0.7986000776290894, 'entity': {'type': 'text', 'filename': 'Spring_Bulbs.docx'}}, {'id': 457365964809306116, 'distance': 0.782997727394104, 'entity': {'type': 'text', 'filename': 'Spring_Bulbs.docx'}}, {'id': 457366000565747720, 'distance': 0.5521793961524963, 'entity': {'type': 'text', 'filename': 'Autumn_Colour.docx'}}, {'id': 457366000574136330, 'distance': 0.5507391095161438, 'entity': {'type': 'text', 'filename': 'Autumn_Colour.docx'}}, {'id': 457366000579117068, 'distance': 0.38708963990211487, 'entity': {'type': 'text', 'filename': 'Autumn_Colour.docx'}}]\"]"
      ]
     },
     "execution_count": 55,
     "metadata": {},
     "output_type": "execute_result"
    }
   ],
   "source": [
    "results"
   ]
  },
  {
   "cell_type": "code",
   "execution_count": null,
   "metadata": {},
   "outputs": [],
   "source": []
  }
 ],
 "metadata": {
  "kernelspec": {
   "display_name": "crewai",
   "language": "python",
   "name": "python3"
  },
  "language_info": {
   "codemirror_mode": {
    "name": "ipython",
    "version": 3
   },
   "file_extension": ".py",
   "mimetype": "text/x-python",
   "name": "python",
   "nbconvert_exporter": "python",
   "pygments_lexer": "ipython3",
   "version": "3.10.13"
  }
 },
 "nbformat": 4,
 "nbformat_minor": 2
}
