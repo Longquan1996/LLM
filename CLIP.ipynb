{
 "cells": [
  {
   "cell_type": "code",
   "execution_count": 18,
   "metadata": {},
   "outputs": [],
   "source": [
    "from zipfile import ZipFile\n",
    "import os\n",
    "import torch\n",
    "from PIL import Image\n",
    "import open_clip\n",
    "from docx import Document\n",
    "from io import BytesIO\n",
    "from llama_index.readers.file.docs import DocxReader\n",
    "from langchain_text_splitters import RecursiveCharacterTextSplitter"
   ]
  },
  {
   "cell_type": "code",
   "execution_count": 26,
   "metadata": {},
   "outputs": [],
   "source": [
    "# 1. 提取文本\n",
    "def extract_text_with_docxreader(docx_path):\n",
    "    docx_reader = DocxReader()\n",
    "    documents = docx_reader.load_data(docx_path)\n",
    "    for i in range(len(documents)):\n",
    "        documents[i] = documents[i].to_langchain_format()\n",
    "    return documents  # 返回的是 List[Document]，可直接用于 LlamaIndex 等\n",
    "\n",
    "# 2. 提取图片\n",
    "def extract_images_as_pil(docx_path, output_folder=\"images\"):\n",
    "    images = []\n",
    "    with ZipFile(docx_path, 'r') as docx_zip:\n",
    "        image_files = [f for f in docx_zip.namelist() if f.startswith(\"word/media/\")]\n",
    "        # os.makedirs(output_folder, exist_ok=True)\n",
    "        for image_file in image_files:\n",
    "            image_data = docx_zip.read(image_file)\n",
    "            image = Image.open(BytesIO(image_data))\n",
    "            images.append(image)\n",
    "            # image_filename = os.path.basename(image_file)\n",
    "            # with open(os.path.join(output_folder, image_filename), \"wb\") as img_out:\n",
    "            #     img_out.write(image_data)\n",
    "    return images"
   ]
  },
  {
   "cell_type": "code",
   "execution_count": 27,
   "metadata": {},
   "outputs": [],
   "source": [
    "docx_path = \"/home/longquan/project/learning/LLM/docs/Spring Bulbs.docx\"\n",
    "output_dir = \"/home/longquan/project/learning/LLM/images\""
   ]
  },
  {
   "cell_type": "code",
   "execution_count": 28,
   "metadata": {},
   "outputs": [],
   "source": [
    "docs = extract_text_with_docxreader(docx_path)\n",
    "images = extract_images_as_pil(docx_path)"
   ]
  },
  {
   "cell_type": "code",
   "execution_count": 30,
   "metadata": {},
   "outputs": [
    {
     "data": {
      "text/plain": [
       "\"It's Time To Plant Spring Bulbs\\n\\n\\n\\nSpectacular spring bulbs will brighten up your garden with their vibrant colour and delightful fragrance. Plant now in autumn to enjoy beautiful blooms once spring arrives. With a huge range of bulbs to choose from, you can create stunning displays in garden beds, borders, or pots.\\n\\nPlanting\\n\\nThe best time to plant spring bulbs is in autumn, but specific planting times vary depending on the variety. Check out our top varieties below for detailed tips, or ask a friendly team member instore if you’re unsure. Spring bulbs grow well in both garden beds and pots. When planting in the ground, ensure the soil is well-draining and nutrient rich. Mix in Kings Compost and pumice sand at planting time, or use a specialised mix like Tui Bulb Mix for best results. If your garden beds tend to get soggy during wetter months, plant your bulbs into a slight mound to improve drainage. For pots, choose a container large enough for the bulbs to grow into, and ensure it has adequate drainage holes. Plant directly into Tui Bulb Mix for the best results\""
      ]
     },
     "execution_count": 30,
     "metadata": {},
     "output_type": "execute_result"
    }
   ],
   "source": [
    "docs[0].page_content"
   ]
  },
  {
   "cell_type": "code",
   "execution_count": 31,
   "metadata": {},
   "outputs": [
    {
     "data": {
      "text/plain": [
       "[<PIL.PngImagePlugin.PngImageFile image mode=RGB size=749x422>]"
      ]
     },
     "execution_count": 31,
     "metadata": {},
     "output_type": "execute_result"
    }
   ],
   "source": [
    "images"
   ]
  },
  {
   "cell_type": "code",
   "execution_count": 32,
   "metadata": {},
   "outputs": [],
   "source": [
    "textSplitter = RecursiveCharacterTextSplitter(\n",
    "    chunk_size=1024, chunk_overlap=100\n",
    ")"
   ]
  },
  {
   "cell_type": "code",
   "execution_count": 35,
   "metadata": {},
   "outputs": [
    {
     "data": {
      "text/plain": [
       "[Document(metadata={'file_name': 'Spring Bulbs.docx'}, page_content=\"It's Time To Plant Spring Bulbs\\n\\n\\n\\nSpectacular spring bulbs will brighten up your garden with their vibrant colour and delightful fragrance. Plant now in autumn to enjoy beautiful blooms once spring arrives. With a huge range of bulbs to choose from, you can create stunning displays in garden beds, borders, or pots.\\n\\nPlanting\"),\n",
       " Document(metadata={'file_name': 'Spring Bulbs.docx'}, page_content='Planting\\n\\nThe best time to plant spring bulbs is in autumn, but specific planting times vary depending on the variety. Check out our top varieties below for detailed tips, or ask a friendly team member instore if you’re unsure. Spring bulbs grow well in both garden beds and pots. When planting in the ground, ensure the soil is well-draining and nutrient rich. Mix in Kings Compost and pumice sand at planting time, or use a specialised mix like Tui Bulb Mix for best results. If your garden beds tend to get soggy during wetter months, plant your bulbs into a slight mound to improve drainage. For pots, choose a container large enough for the bulbs to grow into, and ensure it has adequate drainage holes. Plant directly into Tui Bulb Mix for the best results')]"
      ]
     },
     "execution_count": 35,
     "metadata": {},
     "output_type": "execute_result"
    }
   ],
   "source": [
    "text_chunks = textSplitter.split_documents(docs)\n",
    "text_chunks"
   ]
  },
  {
   "cell_type": "code",
   "execution_count": 38,
   "metadata": {},
   "outputs": [],
   "source": [
    "# open_clip.list_pretrained()\n",
    "model, _, preprocess = open_clip.create_model_and_transforms(\n",
    "    'ViT-B-32', \n",
    "    pretrained='/home/longquan/model/CLIP-ViT-B-32-laion2B-s34B-b79K/open_clip_pytorch_model.bin', \n",
    "    load_weights_only=True\n",
    ")"
   ]
  },
  {
   "cell_type": "code",
   "execution_count": 39,
   "metadata": {},
   "outputs": [],
   "source": [
    "model.eval()  # model in train mode by default, impacts some models with BatchNorm or stochastic depth active\n",
    "tokenizer = open_clip.get_tokenizer('ViT-B-32')"
   ]
  },
  {
   "cell_type": "code",
   "execution_count": 40,
   "metadata": {},
   "outputs": [],
   "source": [
    "def pil_2_vec(image_pil):\n",
    "    image = preprocess(image_pil).unsqueeze(0)\n",
    "    with torch.no_grad(), torch.autocast(\"cuda\"):\n",
    "        image_features = model.encode_image(image)\n",
    "    image_features /= image_features.norm(dim=-1, keepdim=True)\n",
    "    return image_features"
   ]
  },
  {
   "cell_type": "code",
   "execution_count": 54,
   "metadata": {},
   "outputs": [
    {
     "data": {
      "text/plain": [
       "torch.Size([1, 512])"
      ]
     },
     "execution_count": 54,
     "metadata": {},
     "output_type": "execute_result"
    }
   ],
   "source": [
    "image_tensor = torch.cat(\n",
    "    [pil_2_vec(image) for image in images], \n",
    "    dim=0\n",
    "    )\n",
    "image_tensor.shape"
   ]
  },
  {
   "cell_type": "code",
   "execution_count": 45,
   "metadata": {},
   "outputs": [
    {
     "data": {
      "text/plain": [
       "[\"It's Time To Plant Spring Bulbs\\n\\n\\n\\nSpectacular spring bulbs will brighten up your garden with their vibrant colour and delightful fragrance. Plant now in autumn to enjoy beautiful blooms once spring arrives. With a huge range of bulbs to choose from, you can create stunning displays in garden beds, borders, or pots.\\n\\nPlanting\",\n",
       " 'Planting\\n\\nThe best time to plant spring bulbs is in autumn, but specific planting times vary depending on the variety. Check out our top varieties below for detailed tips, or ask a friendly team member instore if you’re unsure. Spring bulbs grow well in both garden beds and pots. When planting in the ground, ensure the soil is well-draining and nutrient rich. Mix in Kings Compost and pumice sand at planting time, or use a specialised mix like Tui Bulb Mix for best results. If your garden beds tend to get soggy during wetter months, plant your bulbs into a slight mound to improve drainage. For pots, choose a container large enough for the bulbs to grow into, and ensure it has adequate drainage holes. Plant directly into Tui Bulb Mix for the best results']"
      ]
     },
     "execution_count": 45,
     "metadata": {},
     "output_type": "execute_result"
    }
   ],
   "source": [
    "text = [i.page_content for i in text_chunks]\n",
    "text"
   ]
  },
  {
   "cell_type": "code",
   "execution_count": 58,
   "metadata": {},
   "outputs": [
    {
     "data": {
      "text/plain": [
       "torch.Size([2, 77])"
      ]
     },
     "execution_count": 58,
     "metadata": {},
     "output_type": "execute_result"
    }
   ],
   "source": [
    "text_token = tokenizer(text)\n",
    "text_token.shape"
   ]
  },
  {
   "cell_type": "code",
   "execution_count": 59,
   "metadata": {},
   "outputs": [],
   "source": [
    "def text_2_vec(text):\n",
    "    with torch.no_grad(), torch.autocast(\"cuda\"):\n",
    "        text_features = model.encode_text(text)\n",
    "    text_features /= text_features.norm(dim=-1, keepdim=True)\n",
    "    return text_features"
   ]
  },
  {
   "cell_type": "code",
   "execution_count": 60,
   "metadata": {},
   "outputs": [
    {
     "data": {
      "text/plain": [
       "torch.Size([2, 512])"
      ]
     },
     "execution_count": 60,
     "metadata": {},
     "output_type": "execute_result"
    }
   ],
   "source": [
    "text_2_vec(text_token).shape"
   ]
  },
  {
   "cell_type": "code",
   "execution_count": null,
   "metadata": {},
   "outputs": [],
   "source": []
  },
  {
   "cell_type": "code",
   "execution_count": null,
   "metadata": {},
   "outputs": [],
   "source": []
  },
  {
   "cell_type": "code",
   "execution_count": 7,
   "metadata": {},
   "outputs": [],
   "source": [
    "a = Image.open(\"/home/longquan/project/learning/LLM/images/image1.png\")"
   ]
  },
  {
   "cell_type": "code",
   "execution_count": 18,
   "metadata": {},
   "outputs": [],
   "source": [
    "image = preprocess(Image.open(\"/home/longquan/project/learning/LLM/images/08fdd9b671b1cf624289cc0fd7837b83.jpeg\")).unsqueeze(0)\n",
    "text = tokenizer([\"a sunflower\", \"a dog\", \"a flower\"])"
   ]
  },
  {
   "cell_type": "code",
   "execution_count": 19,
   "metadata": {},
   "outputs": [
    {
     "data": {
      "text/plain": [
       "(torch.Size([1, 3, 224, 224]), torch.Size([3, 77]))"
      ]
     },
     "execution_count": 19,
     "metadata": {},
     "output_type": "execute_result"
    }
   ],
   "source": [
    "image.shape, text.shape"
   ]
  },
  {
   "cell_type": "code",
   "execution_count": 20,
   "metadata": {},
   "outputs": [
    {
     "name": "stdout",
     "output_type": "stream",
     "text": [
      "Label probs: tensor([[9.9093e-01, 1.8791e-07, 9.0733e-03]])\n"
     ]
    }
   ],
   "source": [
    "with torch.no_grad(), torch.autocast(\"cuda\"):\n",
    "    image_features = model.encode_image(image)\n",
    "    text_features = model.encode_text(text)\n",
    "    image_features /= image_features.norm(dim=-1, keepdim=True)\n",
    "    text_features /= text_features.norm(dim=-1, keepdim=True)\n",
    "\n",
    "    text_probs = (100.0 * image_features @ text_features.T).softmax(dim=-1)\n",
    "\n",
    "print(\"Label probs:\", text_probs)  # prints: [[1., 0., 0.]]"
   ]
  },
  {
   "cell_type": "code",
   "execution_count": 23,
   "metadata": {},
   "outputs": [
    {
     "data": {
      "text/plain": [
       "(torch.Size([1, 512]), torch.Size([3, 512]))"
      ]
     },
     "execution_count": 23,
     "metadata": {},
     "output_type": "execute_result"
    }
   ],
   "source": [
    "image_features.shape, text_features.shape"
   ]
  },
  {
   "cell_type": "code",
   "execution_count": null,
   "metadata": {},
   "outputs": [],
   "source": []
  }
 ],
 "metadata": {
  "kernelspec": {
   "display_name": "crewai",
   "language": "python",
   "name": "python3"
  },
  "language_info": {
   "codemirror_mode": {
    "name": "ipython",
    "version": 3
   },
   "file_extension": ".py",
   "mimetype": "text/x-python",
   "name": "python",
   "nbconvert_exporter": "python",
   "pygments_lexer": "ipython3",
   "version": "3.10.16"
  }
 },
 "nbformat": 4,
 "nbformat_minor": 2
}
